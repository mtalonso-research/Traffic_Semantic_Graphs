{
 "cells": [
  {
   "cell_type": "code",
   "execution_count": 1,
   "id": "12f18253",
   "metadata": {},
   "outputs": [
    {
     "name": "stderr",
     "output_type": "stream",
     "text": [
      "/aul/homes/mtemp009/Projects/ISAC/Traffic_Semantic_Graphs/sem_graphs/lib/python3.11/site-packages/torch_geometric/typing.py:86: UserWarning: An issue occurred while importing 'torch-scatter'. Disabling its usage. Stacktrace: /lib64/libc.so.6: version `GLIBC_2.32' not found (required by /a/bear.cs.fiu.edu./disk/bear-b/users/mtemp009/Projects/ISAC/Traffic_Semantic_Graphs/sem_graphs/lib/python3.11/site-packages/torch_scatter/_version_cpu.so)\n",
      "  warnings.warn(f\"An issue occurred while importing 'torch-scatter'. \"\n"
     ]
    }
   ],
   "source": [
    "import json\n",
    "import torch\n",
    "import numpy as np\n",
    "import os\n",
    "from torch.utils.data import Dataset, DataLoader, random_split\n",
    "from torch_geometric.data import Data\n",
    "from torch_geometric.loader import DataLoader as PyGDataLoader\n",
    "import torch.nn as nn\n",
    "from torch_geometric.nn import GCNConv, global_mean_pool\n",
    "import torch.nn.functional as F\n",
    "import matplotlib.pyplot as plt\n",
    "import sys\n",
    "from torch_geometric.utils import to_dense_batch\n",
    "import torch.optim as optim\n",
    "import json\n",
    "\n",
    "sys.path.append(os.path.abspath(\"..\"))\n",
    "from functions.utils_L2D import load_and_restore_parquet, display_frames"
   ]
  },
  {
   "cell_type": "markdown",
   "id": "80898924",
   "metadata": {},
   "source": [
    "## Phase 2: Training Models without Diffusion"
   ]
  },
  {
   "cell_type": "markdown",
   "id": "e70c9443",
   "metadata": {},
   "source": [
    "### A. Predicting Next Coordinates"
   ]
  },
  {
   "cell_type": "markdown",
   "id": "b24bb518",
   "metadata": {},
   "source": [
    "#### 1. Load the Graphical Data\n",
    "\n",
    "- feature_keys allows us to select which features to include in the loaded data\n",
    "\n",
    "- include_nodes determines the node types that are included\n",
    "\n",
    "- include_edges determines the edge types that are included\n",
    "\n",
    "- target_spec determines which downstream task we will be training for, from the following:\n",
    "\n",
    "    - ego_next_pos torch.Size([8, 2])\n",
    "    - ego_next_heading torch.Size([8, 1])\n",
    "    - ego_next_speed torch.Size([8, 1])\n",
    "    - ego_next_controls torch.Size([8, 5])\n",
    "    - min_dist_vehicle torch.Size([8, 1])\n",
    "    - min_dist_pedestrian torch.Size([8, 1])\n",
    "    - closest_vehicle_relvel_y torch.Size([8, 1])\n",
    "    - ego_traj_5 torch.Size([8, 10])\n",
    "\n",
    "- num_steps is for standardizing the episode lenght. All episodes will be cut off at this length\n",
    "\n",
    "- If skip_short is set to true, then the episodes that are shorter than num_steps will not be loaded"
   ]
  },
  {
   "cell_type": "code",
   "execution_count": 2,
   "id": "59893755",
   "metadata": {},
   "outputs": [],
   "source": [
    "from functions.graphs_L2D import create_dataloaders\n",
    "\n",
    "train_loader, test_loader, train_set, test_set, norm_stats, feature_schema = create_dataloaders(\n",
    "    directory=\"../data/graphical/L2D/\",\n",
    "    num_steps=5,\n",
    "    batch_size=64,\n",
    "    train_ratio=0.8,\n",
    "    include_nodes='all',\n",
    "    include_edges='all',\n",
    "    feature_keys=None,\n",
    "    expand_vectors=True,\n",
    "    target_spec='ego_next_pos',\n",
    "    skip_short=True\n",
    ")"
   ]
  },
  {
   "cell_type": "code",
   "execution_count": 3,
   "id": "f54154a1",
   "metadata": {},
   "outputs": [
    {
     "name": "stdout",
     "output_type": "stream",
     "text": [
      "ego ['accel_x', 'accel_y', 'brake', 'gas', 'gear', 'heading', 'heading_error', 'latitude', 'longitude', 'prev_step_distance_m', 'speed', 'steering', 'turn_signal']\n",
      "vehicle ['dist_to_ego']\n",
      "pedestrian []\n",
      "environment ['bicycle', 'bike_friendly', 'delta_t_prev_s', 'is_narrow', 'is_unlit', 'landuse', 'lanes', 'maxspeed', 'oneway', 'road_name', 'sidewalk', 'surface', 'traffic_controls', 'traffic_features', 'width']\n"
     ]
    }
   ],
   "source": [
    "for key,feats in feature_schema.items():\n",
    "    print(key,feats)"
   ]
  },
  {
   "cell_type": "code",
   "execution_count": 4,
   "id": "81d885b3",
   "metadata": {},
   "outputs": [
    {
     "name": "stdout",
     "output_type": "stream",
     "text": [
      "HeteroDataBatch(\n",
      "  y=[64, 2],\n",
      "  window_meta={\n",
      "    episode_path=[64],\n",
      "    start=[64],\n",
      "    target=[64],\n",
      "    frames=[64],\n",
      "  },\n",
      "  ego={\n",
      "    x=[320, 13],\n",
      "    mask=[320, 13],\n",
      "    frame_id=[320],\n",
      "    batch=[320],\n",
      "    ptr=[65],\n",
      "  },\n",
      "  vehicle={\n",
      "    x=[913, 1],\n",
      "    mask=[913, 1],\n",
      "    frame_id=[913],\n",
      "    batch=[913],\n",
      "    ptr=[58],\n",
      "  },\n",
      "  environment={\n",
      "    x=[320, 15],\n",
      "    mask=[320, 15],\n",
      "    frame_id=[320],\n",
      "    batch=[320],\n",
      "    ptr=[65],\n",
      "  },\n",
      "  (ego, ego_to_ego, ego)={ edge_index=[2, 256] },\n",
      "  (ego, ego_to_vehicle, vehicle)={ edge_index=[2, 913] },\n",
      "  (environment, env_to_env, environment)={ edge_index=[2, 256] },\n",
      "  (ego, ego_to_environment, environment)={ edge_index=[2, 320] }\n",
      ")\n",
      "Batch node types: ['ego', 'vehicle', 'environment']\n",
      "ego node feature shape: torch.Size([320, 13])\n",
      "vehicle node feature shape: torch.Size([913, 1])\n",
      "environment node feature shape: torch.Size([320, 15])\n",
      "Targets y shape: torch.Size([64, 2])\n"
     ]
    }
   ],
   "source": [
    "for batch in train_loader:\n",
    "    print(batch)\n",
    "    print(\"Batch node types:\", batch.node_types)\n",
    "    for ntype in batch.node_types:\n",
    "        print(f\"{ntype} node feature shape:\", batch[ntype].x.shape)\n",
    "    print(\"Targets y shape:\", getattr(batch, 'y', None).shape if hasattr(batch, 'y') else None)\n",
    "    break"
   ]
  },
  {
   "cell_type": "markdown",
   "id": "2afe591e",
   "metadata": {},
   "source": [
    "#### 2. Initialize Models\n",
    "\n",
    "- The StudentModel class is made up of the following main components:\n",
    "\n",
    "    - Encoders MLP: map features to hidden_dim\n",
    "\n",
    "    - GNN: gnn_layers of HeteroConv(SAGEConv) over edge_types.\n",
    "\n",
    "    - Readout + MLP head: select last-frame ego embedding and use MLP to predict downstream task."
   ]
  },
  {
   "cell_type": "code",
   "execution_count": 5,
   "id": "2ed18e2a",
   "metadata": {},
   "outputs": [],
   "source": [
    "from functions.models_L2D import StudentModel, train_one_epoch, eval_one_epoch\n",
    "from torch.optim import AdamW\n",
    "\n",
    "device = \"cuda\" if torch.cuda.is_available() else \"cpu\"\n",
    "feature_dims = {ntype: len(feature_schema.get(ntype, [])) for ntype in feature_schema}\n",
    "warmup_batch = next(iter(train_loader))\n",
    "metadata = (warmup_batch.node_types, warmup_batch.edge_types)\n",
    "\n",
    "model = StudentModel(\n",
    "    feature_dims=feature_dims,\n",
    "    metadata=metadata,\n",
    "    target_spec='ego_next_pos',\n",
    "    hidden_dim=128,\n",
    "    gnn_layers=2,\n",
    "    dropout=0.0,\n",
    ").to(device)\n",
    "\n",
    "criterion = nn.MSELoss()\n",
    "optimizer = AdamW(model.parameters(), lr=2e-3, weight_decay=1e-4)"
   ]
  },
  {
   "cell_type": "markdown",
   "id": "db09ec9f",
   "metadata": {},
   "source": [
    "#### 3. Train Models Jointly\n",
    "\n",
    "- In this case using MSE loss between predicted lat/lon and ground truth"
   ]
  },
  {
   "cell_type": "code",
   "execution_count": 7,
   "id": "7b903b9c",
   "metadata": {},
   "outputs": [
    {
     "name": "stdout",
     "output_type": "stream",
     "text": [
      "epoch 00 | train 0.8974 | val 0.7597\n",
      "epoch 01 | train 0.6585 | val 0.5862\n",
      "epoch 02 | train 0.5263 | val 0.4768\n",
      "epoch 03 | train 0.4414 | val 0.4284\n",
      "epoch 04 | train 0.3852 | val 0.3576\n",
      "epoch 05 | train 0.3428 | val 0.3297\n",
      "epoch 06 | train 0.3095 | val 0.2910\n",
      "epoch 07 | train 0.2807 | val 0.2634\n",
      "epoch 08 | train 0.2569 | val 0.2408\n",
      "epoch 09 | train 0.2334 | val 0.2190\n"
     ]
    }
   ],
   "source": [
    "from functions.models_L2D import compute_feature_stats, compute_target_stats\n",
    "\n",
    "feature_norms = compute_feature_stats(train_loader, node_types=[\"ego\",\"vehicle\",\"pedestrian\",\"environment\"])\n",
    "target_norm   = compute_target_stats(train_loader)\n",
    "\n",
    "for epoch in range(10):\n",
    "    tr = train_one_epoch(model, train_loader, optimizer, criterion,\n",
    "                         device=device, feature_norms=feature_norms, target_norm=target_norm)\n",
    "    va = eval_one_epoch(model, test_loader, criterion,\n",
    "                        device=device, feature_norms=feature_norms, target_norm=target_norm)\n",
    "    print(f\"epoch {epoch:02d} | train {tr:.4f} | val {va:.4f}\")"
   ]
  },
  {
   "cell_type": "markdown",
   "id": "84efa186",
   "metadata": {},
   "source": [
    "## Experiments"
   ]
  },
  {
   "cell_type": "markdown",
   "id": "1804deff",
   "metadata": {},
   "source": [
    "### 1. Ego Next Heading"
   ]
  },
  {
   "cell_type": "code",
   "execution_count": 8,
   "id": "25653fca",
   "metadata": {},
   "outputs": [
    {
     "name": "stdout",
     "output_type": "stream",
     "text": [
      "epoch 00 | train 1.5922 | val 0.5785\n",
      "epoch 01 | train 0.4589 | val 0.3415\n",
      "epoch 02 | train 0.3530 | val 0.3003\n",
      "epoch 03 | train 0.3290 | val 0.2849\n",
      "epoch 04 | train 0.3151 | val 0.2725\n",
      "epoch 05 | train 0.3049 | val 0.2640\n",
      "epoch 06 | train 0.2967 | val 0.2567\n",
      "epoch 07 | train 0.2891 | val 0.2502\n",
      "epoch 08 | train 0.2820 | val 0.2439\n",
      "epoch 09 | train 0.2733 | val 0.2357\n"
     ]
    }
   ],
   "source": [
    "target_spec = 'ego_next_heading'\n",
    "\n",
    "train_loader, test_loader, train_set, test_set, norm_stats, feature_schema = create_dataloaders(\n",
    "    directory=\"../data/graphical/L2D/\",\n",
    "    num_steps=5,\n",
    "    batch_size=64,\n",
    "    train_ratio=0.8,\n",
    "    include_nodes='all',\n",
    "    include_edges='all',\n",
    "    feature_keys=None,\n",
    "    expand_vectors=True,\n",
    "    target_spec=target_spec,\n",
    "    skip_short=True\n",
    ")\n",
    "\n",
    "device = \"cuda\" if torch.cuda.is_available() else \"cpu\"\n",
    "feature_dims = {ntype: len(feature_schema.get(ntype, [])) for ntype in feature_schema}\n",
    "warmup_batch = next(iter(train_loader))\n",
    "metadata = (warmup_batch.node_types, warmup_batch.edge_types)\n",
    "\n",
    "model = StudentModel(\n",
    "    feature_dims=feature_dims,\n",
    "    metadata=metadata,\n",
    "    target_spec=target_spec,\n",
    "    hidden_dim=128,\n",
    "    gnn_layers=2,\n",
    "    dropout=0.0,\n",
    ").to(device)\n",
    "\n",
    "criterion = nn.MSELoss()\n",
    "optimizer = AdamW(model.parameters(), lr=2e-3, weight_decay=1e-4)\n",
    "\n",
    "feature_norms = compute_feature_stats(train_loader, node_types=[\"ego\",\"vehicle\",\"pedestrian\",\"environment\"])\n",
    "target_norm   = compute_target_stats(train_loader)\n",
    "\n",
    "for epoch in range(10):\n",
    "    tr = train_one_epoch(model, train_loader, optimizer, criterion,\n",
    "                         device=device, feature_norms=feature_norms, target_norm=target_norm)\n",
    "    va = eval_one_epoch(model, test_loader, criterion,\n",
    "                        device=device, feature_norms=feature_norms, target_norm=target_norm)\n",
    "    print(f\"epoch {epoch:02d} | train {tr:.4f} | val {va:.4f}\")"
   ]
  },
  {
   "cell_type": "markdown",
   "id": "a27df1f1",
   "metadata": {},
   "source": [
    "### 2. Ego Next Controls"
   ]
  },
  {
   "cell_type": "code",
   "execution_count": 10,
   "id": "0280127f",
   "metadata": {},
   "outputs": [
    {
     "name": "stdout",
     "output_type": "stream",
     "text": [
      "epoch 00 | train 1.0999 | val 0.4831\n",
      "epoch 01 | train 0.4540 | val 0.4387\n",
      "epoch 02 | train 0.4267 | val 0.4149\n",
      "epoch 03 | train 0.4097 | val 0.4105\n",
      "epoch 04 | train 0.3996 | val 0.3991\n",
      "epoch 05 | train 0.3898 | val 0.3911\n",
      "epoch 06 | train 0.3843 | val 0.3867\n",
      "epoch 07 | train 0.3776 | val 0.3945\n",
      "epoch 08 | train 0.3766 | val 0.3833\n",
      "epoch 09 | train 0.3727 | val 0.3797\n"
     ]
    }
   ],
   "source": [
    "target_spec = 'ego_next_controls'\n",
    "\n",
    "train_loader, test_loader, train_set, test_set, norm_stats, feature_schema = create_dataloaders(\n",
    "    directory=\"../data/graphical/L2D/\",\n",
    "    num_steps=5,\n",
    "    batch_size=64,\n",
    "    train_ratio=0.8,\n",
    "    include_nodes='all',\n",
    "    include_edges='all',\n",
    "    feature_keys=None,\n",
    "    expand_vectors=True,\n",
    "    target_spec=target_spec,\n",
    "    skip_short=True\n",
    ")\n",
    "\n",
    "device = \"cuda\" if torch.cuda.is_available() else \"cpu\"\n",
    "feature_dims = {ntype: len(feature_schema.get(ntype, [])) for ntype in feature_schema}\n",
    "warmup_batch = next(iter(train_loader))\n",
    "metadata = (warmup_batch.node_types, warmup_batch.edge_types)\n",
    "\n",
    "model = StudentModel(\n",
    "    feature_dims=feature_dims,\n",
    "    metadata=metadata,\n",
    "    target_spec=target_spec,\n",
    "    hidden_dim=128,\n",
    "    gnn_layers=2,\n",
    "    dropout=0.0,\n",
    ").to(device)\n",
    "\n",
    "criterion = nn.MSELoss()\n",
    "optimizer = AdamW(model.parameters(), lr=2e-3, weight_decay=1e-4)\n",
    "\n",
    "feature_norms = compute_feature_stats(train_loader, node_types=[\"ego\",\"vehicle\",\"pedestrian\",\"environment\"])\n",
    "target_norm   = compute_target_stats(train_loader)\n",
    "\n",
    "for epoch in range(10):\n",
    "    tr = train_one_epoch(model, train_loader, optimizer, criterion,\n",
    "                         device=device, feature_norms=feature_norms, target_norm=target_norm)\n",
    "    va = eval_one_epoch(model, test_loader, criterion,\n",
    "                        device=device, feature_norms=feature_norms, target_norm=target_norm)\n",
    "    print(f\"epoch {epoch:02d} | train {tr:.4f} | val {va:.4f}\")"
   ]
  },
  {
   "cell_type": "markdown",
   "id": "7d477b38",
   "metadata": {},
   "source": [
    "### 3. Ego Trajectory (5 steps)"
   ]
  },
  {
   "cell_type": "code",
   "execution_count": 13,
   "id": "72f7b8c6",
   "metadata": {},
   "outputs": [
    {
     "name": "stdout",
     "output_type": "stream",
     "text": [
      "epoch 00 | train 71.4472 | val 1.1056\n",
      "epoch 01 | train 0.7561 | val 0.5264\n",
      "epoch 02 | train 0.4489 | val 0.3600\n",
      "epoch 03 | train 0.3347 | val 0.3022\n",
      "epoch 04 | train 0.2719 | val 0.2486\n",
      "epoch 05 | train 0.2191 | val 0.1924\n",
      "epoch 06 | train 0.1772 | val 0.1562\n",
      "epoch 07 | train 0.1441 | val 0.1400\n",
      "epoch 08 | train 0.1219 | val 0.1164\n",
      "epoch 09 | train 0.1045 | val 0.1063\n"
     ]
    }
   ],
   "source": [
    "target_spec = 'ego_traj_5'\n",
    "\n",
    "train_loader, test_loader, train_set, test_set, norm_stats, feature_schema = create_dataloaders(\n",
    "    directory=\"../data/graphical/L2D/\",\n",
    "    num_steps=5,\n",
    "    batch_size=64,\n",
    "    train_ratio=0.8,\n",
    "    include_nodes='all',\n",
    "    include_edges='all',\n",
    "    feature_keys=None,\n",
    "    expand_vectors=True,\n",
    "    target_spec=target_spec,\n",
    "    skip_short=True\n",
    ")\n",
    "\n",
    "device = \"cuda\" if torch.cuda.is_available() else \"cpu\"\n",
    "feature_dims = {ntype: len(feature_schema.get(ntype, [])) for ntype in feature_schema}\n",
    "warmup_batch = next(iter(train_loader))\n",
    "metadata = (warmup_batch.node_types, warmup_batch.edge_types)\n",
    "\n",
    "model = StudentModel(\n",
    "    feature_dims=feature_dims,\n",
    "    metadata=metadata,\n",
    "    target_spec=target_spec,\n",
    "    hidden_dim=128,\n",
    "    gnn_layers=2,\n",
    "    dropout=0.0,\n",
    ").to(device)\n",
    "\n",
    "criterion = nn.MSELoss()\n",
    "optimizer = AdamW(model.parameters(), lr=2e-3, weight_decay=1e-4)\n",
    "\n",
    "feature_norms = compute_feature_stats(train_loader, node_types=[\"ego\",\"vehicle\",\"pedestrian\",\"environment\"])\n",
    "target_norm   = compute_target_stats(train_loader)\n",
    "\n",
    "for epoch in range(10):\n",
    "    tr = train_one_epoch(model, train_loader, optimizer, criterion,\n",
    "                         device=device, feature_norms=feature_norms, target_norm=target_norm)\n",
    "    va = eval_one_epoch(model, test_loader, criterion,\n",
    "                        device=device, feature_norms=feature_norms, target_norm=target_norm)\n",
    "    print(f\"epoch {epoch:02d} | train {tr:.4f} | val {va:.4f}\")"
   ]
  },
  {
   "cell_type": "code",
   "execution_count": null,
   "id": "f6794a16",
   "metadata": {},
   "outputs": [],
   "source": []
  }
 ],
 "metadata": {
  "kernelspec": {
   "display_name": "sem_graphs (3.11.5)",
   "language": "python",
   "name": "python3"
  },
  "language_info": {
   "codemirror_mode": {
    "name": "ipython",
    "version": 3
   },
   "file_extension": ".py",
   "mimetype": "text/x-python",
   "name": "python",
   "nbconvert_exporter": "python",
   "pygments_lexer": "ipython3",
   "version": "3.11.5"
  }
 },
 "nbformat": 4,
 "nbformat_minor": 5
}
