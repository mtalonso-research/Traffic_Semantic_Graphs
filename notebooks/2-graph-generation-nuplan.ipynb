{
 "cells": [
  {
   "cell_type": "code",
   "execution_count": 1,
   "id": "ee2bfdd7",
   "metadata": {},
   "outputs": [],
   "source": [
    "import json\n",
    "import torch\n",
    "import numpy as np\n",
    "import os\n",
    "from torch.utils.data import Dataset, DataLoader, random_split\n",
    "import torch.nn as nn\n",
    "import torch.nn.functional as F\n",
    "import matplotlib.pyplot as plt\n",
    "import sys\n",
    "import torch.optim as optim\n",
    "import json\n",
    "\n",
    "sys.path.append(os.path.abspath(\"..\"))"
   ]
  },
  {
   "cell_type": "markdown",
   "id": "fe8d3527",
   "metadata": {},
   "source": [
    "#### 1. Download Data\n",
    "\n",
    "- Go to https://www.nuscenes.org/nuplan\n",
    "\n",
    "- Sign up or Log in\n",
    "\n",
    "- Download sub-dataset of choice from nuPlan v1.1 Dataset > nuPlan Train/Val/Test Split\n",
    "\n",
    "    - In this case, we are using nuPlan Train Split Pittsburgh (28.52 GB)"
   ]
  },
  {
   "cell_type": "markdown",
   "id": "062d81bf",
   "metadata": {},
   "source": [
    "#### 2. Set Up the NuPlan API\n",
    "\n",
    "- Make a new environment that meets all of the nuplan requirements\n",
    "\n",
    "    - conda create -n nuplan python=3.10 -y\n",
    "    - conda activate nuplan\n",
    "\n",
    "- Set up all necessary packages\n",
    "\n",
    "    - pip install \"torch==2.3.*\" torchvision --index-url https://download.pytorch.org/whl/cu121\n",
    "        - Note: edit this one depending on CUDA version\n",
    "\n",
    "    - pip install pyquaternion matplotlib pytest scipy opencv-python requests tqdm numpy pandas shapely pyproj geopandas aioboto3 aiobotocore boto3 retry rasterio omegaconf hydra-core\n",
    "\n",
    "- Test the cell below to make sure everything is ready"
   ]
  },
  {
   "cell_type": "code",
   "execution_count": null,
   "id": "7dc1d1e5",
   "metadata": {},
   "outputs": [],
   "source": [
    "import sys, importlib, platform\n",
    "mods = [\n",
    "    \"nuplan\",\n",
    "    \"nuplan.planning.scenario_builder.nuplan_db.nuplan_scenario_builder\",\n",
    "    \"nuplan.planning.scenario_builder.scenario_filter\",\n",
    "    \"nuplan.common.actor_state.ego_state\",\n",
    "]\n",
    "ok = True\n",
    "for m in mods:\n",
    "    try:\n",
    "        importlib.import_module(m)\n",
    "        print(\"OK  \", m)\n",
    "    except Exception as e:\n",
    "        ok = False\n",
    "        print(\"FAIL\", m, \"->\", repr(e))\n",
    "\n",
    "print(\"Python:\", sys.version.split()[0], \"| Platform:\", platform.platform())\n",
    "assert ok, \"One or more NuPlan modules failed to import.\""
   ]
  },
  {
   "cell_type": "markdown",
   "id": "d8e5ef97",
   "metadata": {},
   "source": [
    "#### 3. Process Data into Graphs\n",
    "\n",
    "- You can change the following parameters:\n",
    "\n",
    "    - db_dir: the directory that contains the data downloaded from nuPlan\n",
    "\n",
    "    - out_dir: the directory where you would like to save the processed graphs\n",
    "\n",
    "    - time_idx: the number of seconds between each frame\n",
    "\n",
    "    - max_files: the nuPlan dataset is divided into several db files, each containing several 'episodes'. Since there are many files, you can use this parameter to select the maximum number of files that you would like to process. "
   ]
  },
  {
   "cell_type": "code",
   "execution_count": null,
   "id": "70eb404f",
   "metadata": {},
   "outputs": [
    {
     "name": "stderr",
     "output_type": "stream",
     "text": [
      " 20%|█▉        | 305/1560 [27:55:41<121:22:31, 348.17s/it]"
     ]
    }
   ],
   "source": [
    "from functions.load_data_NuPlan import load_data\n",
    "\n",
    "load_data(db_dir='../data/raw/NuPlan/train_pittsburgh',\n",
    "          time_idx=3,\n",
    "          max_files=None)"
   ]
  },
  {
   "cell_type": "markdown",
   "id": "bbc5e344",
   "metadata": {},
   "source": [
    "#### 4. Process Data Tags\n",
    "\n",
    "- You can change the following parameters:\n",
    "\n",
    "    - src_dir: the directory that contains the generated json graphs\n",
    "\n",
    "    - dst_dir: the directory where you would like to save the processed tags"
   ]
  },
  {
   "cell_type": "code",
   "execution_count": 2,
   "id": "ecd9a932",
   "metadata": {},
   "outputs": [
    {
     "name": "stdout",
     "output_type": "stream",
     "text": [
      "Done. Wrote: 88370, skipped: 0, errors: 0\n"
     ]
    }
   ],
   "source": [
    "from functions.process_tags_NuPlan import process_tags\n",
    "\n",
    "process_tags(\n",
    "    src_dir='../data/graphical/nuplan',\n",
    "    dst_dir='../data/semantic_tags/NuPlan',\n",
    "    overwrite=True\n",
    ")"
   ]
  },
  {
   "cell_type": "markdown",
   "id": "4df16ad0",
   "metadata": {},
   "source": [
    "#### Quick Visualization of Graph & Tags"
   ]
  },
  {
   "cell_type": "code",
   "execution_count": 5,
   "id": "89a526f1",
   "metadata": {},
   "outputs": [
    {
     "data": {
      "application/vnd.jupyter.widget-view+json": {
       "model_id": "6555469d23fb4728ac6d05cd046d620f",
       "version_major": 2,
       "version_minor": 0
      },
      "text/plain": [
       "CytoscapeWidget(cytoscape_layout={'name': 'cola'}, cytoscape_style=[{'selector': 'node', 'style': {'label': 'd…"
      ]
     },
     "metadata": {},
     "output_type": "display_data"
    }
   ],
   "source": [
    "from functions.graphs import combined_graph_viewer\n",
    "\n",
    "ep_num = 5\n",
    "with open(f\"../data/graphical/nuplan/{ep_num}_graph.json\", \"r\") as f:\n",
    "    graph_data = json.load(f)\n",
    "\n",
    "cyto = combined_graph_viewer({'graph':graph_data})\n",
    "display(cyto)"
   ]
  },
  {
   "cell_type": "code",
   "execution_count": 3,
   "id": "f3842326",
   "metadata": {},
   "outputs": [
    {
     "data": {
      "text/plain": [
       "{'action_tags': ['stationary'],\n",
       " 'traffic_control_tags': [],\n",
       " 'road_feature_tags': [],\n",
       " 'environment_tags': ['low_visibility_possible', 'night_time']}"
      ]
     },
     "execution_count": 3,
     "metadata": {},
     "output_type": "execute_result"
    }
   ],
   "source": [
    "ep_num = 5\n",
    "with open(f\"../data/semantic_tags/nuplan/{ep_num}_graph.json\", \"r\") as f:\n",
    "    graph_tags = json.load(f)\n",
    "graph_tags"
   ]
  },
  {
   "cell_type": "code",
   "execution_count": null,
   "id": "4dc8cbd4",
   "metadata": {},
   "outputs": [
    {
     "data": {
      "text/plain": [
       "id             vehicle_e_0\n",
       "type               vehicle\n",
       "x            587962.181725\n",
       "y           4475324.279982\n",
       "z                200.55109\n",
       "vx                     0.0\n",
       "vy                     0.0\n",
       "vz                     0.0\n",
       "yaw              -0.226276\n",
       "category           vehicle\n",
       "tags                    []\n",
       "Name: 8, dtype: object"
      ]
     },
     "execution_count": 6,
     "metadata": {},
     "output_type": "execute_result"
    }
   ],
   "source": [
    "from functions.graphs import graph_to_dfs\n",
    "\n",
    "nodes_df, edges_df = graph_to_dfs(graph_data)\n",
    "nodes_df.iloc[8].dropna()"
   ]
  }
 ],
 "metadata": {
  "kernelspec": {
   "display_name": "llm_training",
   "language": "python",
   "name": "python3"
  },
  "language_info": {
   "codemirror_mode": {
    "name": "ipython",
    "version": 3
   },
   "file_extension": ".py",
   "mimetype": "text/x-python",
   "name": "python",
   "nbconvert_exporter": "python",
   "pygments_lexer": "ipython3",
   "version": "3.10.18"
  }
 },
 "nbformat": 4,
 "nbformat_minor": 5
}
